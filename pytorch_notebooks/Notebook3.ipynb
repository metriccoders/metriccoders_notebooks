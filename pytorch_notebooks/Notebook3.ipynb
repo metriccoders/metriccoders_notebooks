{
 "cells": [
  {
   "cell_type": "code",
   "execution_count": 1,
   "metadata": {},
   "outputs": [
    {
     "name": "stdout",
     "output_type": "stream",
     "text": [
      "torch.Size([8, 1])\n",
      "8 1\n",
      "Prediction before training: f(5.0) = -5.310\n",
      "epoch  10 : w =  198.4659881591797  loss =  38.78538513183594\n",
      "epoch  20 : w =  198.662353515625  loss =  34.98968505859375\n",
      "epoch  30 : w =  198.74148559570312  loss =  32.93898391723633\n",
      "epoch  40 : w =  198.81744384765625  loss =  31.045902252197266\n",
      "epoch  50 : w =  198.89044189453125  loss =  29.298370361328125\n",
      "epoch  60 : w =  198.96055603027344  loss =  27.684947967529297\n",
      "epoch  70 : w =  199.02792358398438  loss =  26.195634841918945\n",
      "epoch  80 : w =  199.0926513671875  loss =  24.821125030517578\n",
      "epoch  90 : w =  199.15484619140625  loss =  23.55208969116211\n",
      "epoch  100 : w =  199.214599609375  loss =  22.380735397338867\n",
      "Prediction after training: f(5.0) = 1026.875\n"
     ]
    }
   ],
   "source": [
    "import torch\n",
    "import torch.nn as nn\n",
    "\n",
    "X = torch.tensor([[1], [2], [3], [4], [5], [6], [7], [8]], dtype=torch.float32)\n",
    "Y = torch.tensor([[221], [422], [632], [824], [1025], [1226], [1427], [1628]], dtype=torch.float32)\n",
    "\n",
    "print(X.shape)\n",
    "n_samples, n_features = X.shape\n",
    "print(n_samples, n_features)\n",
    "\n",
    "# 0) create test sample\n",
    "X_test = torch.tensor([5], dtype=torch.float32)\n",
    "\n",
    "\n",
    "# 1) Create model\n",
    "class LinearRegression(nn.Module):\n",
    "    def __init__(self, input_dim, output_dim):\n",
    "        super(LinearRegression, self).__init__()\n",
    "        self.lin = nn.Linear(input_dim, output_dim)\n",
    "\n",
    "    def forward(self, x):\n",
    "        return self.lin(x)\n",
    "\n",
    "\n",
    "input_size, output_size = n_features, n_features\n",
    "\n",
    "model = LinearRegression(input_size,output_size)\n",
    "\n",
    "print(f'Prediction before training: f({X_test.item()}) = {model(X_test).item():.3f}')\n",
    "\n",
    "# 2) Define loss and optimizer\n",
    "learning_rate = 0.01\n",
    "n_epochs = 100\n",
    "\n",
    "loss = nn.MSELoss()\n",
    "optimizer = torch.optim.SGD(model.parameters(), lr=learning_rate)\n",
    "\n",
    "\n",
    "# 3) Training loop\n",
    "for epoch in range(n_epochs):\n",
    "    #forward pass with our model\n",
    "    y_predicted = model(X)\n",
    "\n",
    "    # loss\n",
    "    l = loss(Y, y_predicted)\n",
    "\n",
    "    # calculate gradients = backward pass\n",
    "    l.backward()\n",
    "\n",
    "    # update weights\n",
    "    optimizer.step()\n",
    "\n",
    "    # zero the gradients after updating\n",
    "    optimizer.zero_grad()\n",
    "\n",
    "    if(epoch+1) % 10 == 0:\n",
    "        w, b = model.parameters()\n",
    "        print('epoch ', epoch + 1, ': w = ', w[0][0].item(), ' loss = ', l.item())\n",
    "\n",
    "print(f'Prediction after training: f({X_test.item()}) = {model(X_test).item():.3f}')\n",
    "\n"
   ]
  }
 ],
 "metadata": {
  "kernelspec": {
   "display_name": "Python 3",
   "language": "python",
   "name": "python3"
  },
  "language_info": {
   "codemirror_mode": {
    "name": "ipython",
    "version": 3
   },
   "file_extension": ".py",
   "mimetype": "text/x-python",
   "name": "python",
   "nbconvert_exporter": "python",
   "pygments_lexer": "ipython3",
   "version": "3.11.7"
  }
 },
 "nbformat": 4,
 "nbformat_minor": 2
}
