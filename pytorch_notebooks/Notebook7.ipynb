{
 "cells": [
  {
   "cell_type": "code",
   "execution_count": 2,
   "metadata": {},
   "outputs": [],
   "source": [
    "import torch\n",
    "import torch.nn as nn"
   ]
  },
  {
   "cell_type": "code",
   "execution_count": 3,
   "metadata": {},
   "outputs": [],
   "source": [
    "X = torch.tensor([[1], [2], [3], [4], [5], [6], [7], [8]], dtype=torch.float32)\n",
    "Y = torch.tensor([[221], [422], [632], [824], [1025], [1226], [1427], [1628]], dtype=torch.float32)\n"
   ]
  },
  {
   "cell_type": "code",
   "execution_count": 4,
   "metadata": {},
   "outputs": [],
   "source": [
    "n_samples, n_features = X.shape"
   ]
  },
  {
   "cell_type": "code",
   "execution_count": 5,
   "metadata": {},
   "outputs": [
    {
     "name": "stdout",
     "output_type": "stream",
     "text": [
      "torch.Size([8, 1])\n"
     ]
    }
   ],
   "source": [
    "print(X.shape)"
   ]
  },
  {
   "cell_type": "code",
   "execution_count": 6,
   "metadata": {},
   "outputs": [],
   "source": [
    "#create test data\n",
    "X_test = torch.tensor([5], dtype=torch.float32)"
   ]
  },
  {
   "cell_type": "code",
   "execution_count": 7,
   "metadata": {},
   "outputs": [],
   "source": [
    "#create model class\n",
    "class LinearRegression(nn.Module):\n",
    "    def __init__(self, input_dim, output_dim):\n",
    "        super(LinearRegression, self).__init__()\n",
    "        \n",
    "        self.lin = nn.Linear(input_dim, output_dim)\n",
    "        \n",
    "    def forward(self, x):\n",
    "        return self.lin(x)"
   ]
  },
  {
   "cell_type": "code",
   "execution_count": 11,
   "metadata": {},
   "outputs": [],
   "source": [
    "input_size, output_size = n_features, n_features\n",
    "model = LinearRegression(input_size, output_size)\n",
    "#define loss and optimizer\n",
    "learning_rate = 0.01\n",
    "n_epochs = 100\n",
    "\n",
    "loss = nn.MSELoss()\n",
    "optimizer = torch.optim.Adam(model.parameters(), lr = learning_rate)\n",
    "\n"
   ]
  },
  {
   "cell_type": "code",
   "execution_count": 12,
   "metadata": {},
   "outputs": [
    {
     "name": "stdout",
     "output_type": "stream",
     "text": [
      "epoch  10 : w =  0.8148648142814636  loss =  1060332.25\n",
      "epoch  20 : w =  0.9148529171943665  loss =  1059108.5\n",
      "epoch  30 : w =  1.0148234367370605  loss =  1057885.5\n",
      "epoch  40 : w =  1.1147710084915161  loss =  1056663.5\n",
      "epoch  50 : w =  1.214693307876587  loss =  1055442.5\n",
      "epoch  60 : w =  1.3145884275436401  loss =  1054222.625\n",
      "epoch  70 : w =  1.414455771446228  loss =  1053003.75\n",
      "epoch  80 : w =  1.5142951011657715  loss =  1051785.875\n",
      "epoch  90 : w =  1.6141064167022705  loss =  1050569.125\n",
      "epoch  100 : w =  1.7138895988464355  loss =  1049353.375\n",
      "Prediction after training: f(5.0) = 9.208\n"
     ]
    }
   ],
   "source": [
    "#training loop\n",
    "for epoch in range(n_epochs):\n",
    "    #forward pass to model class\n",
    "    y_predicted = model(X)\n",
    "    \n",
    "    #loss\n",
    "    l = loss(Y, y_predicted)\n",
    "    \n",
    "    #calculate gradients = backward pass\n",
    "    l.backward()\n",
    "    \n",
    "    #update weights\n",
    "    optimizer.step()\n",
    "    \n",
    "    #zero gradients\n",
    "    optimizer.zero_grad()\n",
    "    \n",
    "    if(epoch+1) % 10 == 0:\n",
    "        w, b = model.parameters()\n",
    "        print('epoch ', epoch + 1, ': w = ', w[0][0].item(), ' loss = ', l.item())\n",
    "\n",
    "print(f'Prediction after training: f({X_test.item()}) = {model(X_test).item():.3f}')\n",
    "\n",
    "    \n",
    "    "
   ]
  }
 ],
 "metadata": {
  "kernelspec": {
   "display_name": "Python 3",
   "language": "python",
   "name": "python3"
  },
  "language_info": {
   "codemirror_mode": {
    "name": "ipython",
    "version": 3
   },
   "file_extension": ".py",
   "mimetype": "text/x-python",
   "name": "python",
   "nbconvert_exporter": "python",
   "pygments_lexer": "ipython3",
   "version": "3.11.7"
  }
 },
 "nbformat": 4,
 "nbformat_minor": 2
}
